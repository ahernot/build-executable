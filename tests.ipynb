{
 "cells": [
  {
   "cell_type": "code",
   "execution_count": 29,
   "metadata": {},
   "outputs": [],
   "source": [
    "import os\n",
    "import subprocess\n",
    "from src.config import PYTHON_PATH\n",
    "\n",
    "out_path = \"/Users/anatole/Downloads/my_module5\""
   ]
  },
  {
   "cell_type": "code",
   "execution_count": 25,
   "metadata": {},
   "outputs": [
    {
     "data": {
      "text/plain": [
       "0"
      ]
     },
     "execution_count": 25,
     "metadata": {},
     "output_type": "execute_result"
    }
   ],
   "source": [
    "# TRY this, if 256 then SUDO\n",
    "command = f\"\"\"echo '#!/bin/bash\\n{PYTHON_PATH} /Users/anatole/Documents/GitHub/build-executable/main.py \"$@\"' > {out_path}\"\"\"\n",
    "os.system(command)"
   ]
  },
  {
   "cell_type": "code",
   "execution_count": 26,
   "metadata": {},
   "outputs": [
    {
     "data": {
      "text/plain": [
       "CompletedProcess(args=['chmod', '+x', '/Users/anatole/Documents/GitHub/build-executable/src/my_module4'], returncode=0)"
      ]
     },
     "execution_count": 26,
     "metadata": {},
     "output_type": "execute_result"
    }
   ],
   "source": [
    "# os.chmod(\"/Users/anatole/Documents/GitHub/build-executable/src/my_module4\", 0o755)\n",
    "# os.system (f\"chmod +x {path}\")  # TRY this, if 256 then SUDO\n",
    "\n",
    "# subprocess.run([\"sudo\", \"chmod\", \"+x\", path])\n",
    "subprocess.run([\"chmod\", \"+x\", out_path])"
   ]
  },
  {
   "cell_type": "code",
   "execution_count": 31,
   "metadata": {},
   "outputs": [
    {
     "data": {
      "text/plain": [
       "CompletedProcess(args='echo \"#!/bin/bash\\npython /Users/anatole/Documents/GitHub/build-executable/main.py \\\\\"\\\\$@\\\\\"\" > \"/Users/anatole/Documents/GitHub/build-executable/out/out0\"', returncode=0)"
      ]
     },
     "execution_count": 31,
     "metadata": {},
     "output_type": "execute_result"
    }
   ],
   "source": [
    "import subprocess\n",
    "path_exec = '/Users/anatole/Documents/GitHub/build-executable/out/out0'\n",
    "\n",
    "text = f'#!/bin/bash\\npython /Users/anatole/Documents/GitHub/build-executable/main.py \"\\$@\"'\n",
    "text_escaped = text.replace('\"', r'\\\"')\n",
    "\n",
    "command = ['echo', f'\"{text_escaped}\"', '>', f'\"{path_exec}\"']\n",
    "command_string = ' '.join(command)\n",
    "subprocess.run(command_string, shell=True, check=True)"
   ]
  },
  {
   "cell_type": "code",
   "execution_count": null,
   "metadata": {},
   "outputs": [],
   "source": []
  },
  {
   "cell_type": "code",
   "execution_count": null,
   "metadata": {},
   "outputs": [],
   "source": []
  },
  {
   "cell_type": "markdown",
   "metadata": {},
   "source": [
    "```zsh\n",
    "echo '#!/bin/bash\\n/usr/local/bin/python3.9 /Users/anatole/Documents/GitHub/build-executable/main.py \"$@\"' > /Users/anatole/Downloads/test_new2 && chmod +x /Users/anatole/Downloads/test_new2\n",
    "```"
   ]
  },
  {
   "cell_type": "code",
   "execution_count": 37,
   "metadata": {},
   "outputs": [
    {
     "name": "stdout",
     "output_type": "stream",
     "text": [
      "False\n",
      "False\n"
     ]
    }
   ],
   "source": [
    "print(os.access('/usr/local/bin/taosjdkas', os.W_OK))\n",
    "print(os.access('/Users/anatole/Documents/GitHub/build-executable/newfile.py', os.W_OK))"
   ]
  },
  {
   "cell_type": "code",
   "execution_count": 38,
   "metadata": {},
   "outputs": [
    {
     "data": {
      "text/plain": [
       "('/Users/anatole/Documents/GitHub/build-executable', 'newfile.py')"
      ]
     },
     "execution_count": 38,
     "metadata": {},
     "output_type": "execute_result"
    }
   ],
   "source": []
  },
  {
   "cell_type": "code",
   "execution_count": 42,
   "metadata": {},
   "outputs": [
    {
     "name": "stdout",
     "output_type": "stream",
     "text": [
      "False\n",
      "True\n"
     ]
    }
   ],
   "source": [
    "print(os.access('/Users/anatole/Documents/GitHub/build-executable/newfile.py', os.W_OK))\n",
    "print(os.access(os.path.split('/Users/anatole/Documents/GitHub/build-executable/newfile.py')[0], os.W_OK))  # Important: cannot access inexisting files/paths"
   ]
  },
  {
   "cell_type": "code",
   "execution_count": null,
   "metadata": {},
   "outputs": [],
   "source": []
  },
  {
   "cell_type": "code",
   "execution_count": 1,
   "metadata": {},
   "outputs": [],
   "source": [
    "from builder import run"
   ]
  },
  {
   "cell_type": "code",
   "execution_count": 2,
   "metadata": {},
   "outputs": [],
   "source": [
    "run('/Users/anatole/Documents/GitHub/build-executable/main.py', '/usr/local/bin/python3.9', '/Users/anatole/Downloads/exec0')"
   ]
  },
  {
   "cell_type": "code",
   "execution_count": 3,
   "metadata": {},
   "outputs": [
    {
     "data": {
      "text/plain": [
       "'echo #!/bin/bash\\n/usr/local/bin/python3.9 /Users/anatole/Documents/GitHub/build-executable/main.py \"$@\" > /Users/anatole/Downloads/exec0 && chmod +x /Users/anatole/Downloads/exec0'"
      ]
     },
     "execution_count": 3,
     "metadata": {},
     "output_type": "execute_result"
    }
   ],
   "source": [
    "' '.join(['echo', '#!/bin/bash\\n/usr/local/bin/python3.9 /Users/anatole/Documents/GitHub/build-executable/main.py \"$@\"', '>', '/Users/anatole/Downloads/exec0', '&&', 'chmod', '+x', '/Users/anatole/Downloads/exec0'])"
   ]
  },
  {
   "cell_type": "code",
   "execution_count": null,
   "metadata": {},
   "outputs": [],
   "source": []
  }
 ],
 "metadata": {
  "kernelspec": {
   "display_name": "Python 3",
   "language": "python",
   "name": "python3"
  },
  "language_info": {
   "codemirror_mode": {
    "name": "ipython",
    "version": 3
   },
   "file_extension": ".py",
   "mimetype": "text/x-python",
   "name": "python",
   "nbconvert_exporter": "python",
   "pygments_lexer": "ipython3",
   "version": "3.9.0"
  }
 },
 "nbformat": 4,
 "nbformat_minor": 2
}
